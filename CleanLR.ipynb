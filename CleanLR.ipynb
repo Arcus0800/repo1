{
  "nbformat": 4,
  "nbformat_minor": 0,
  "metadata": {
    "colab": {
      "provenance": [],
      "authorship_tag": "ABX9TyOZsHBkyOz9kwkeo4CUs7gr",
      "include_colab_link": true
    },
    "kernelspec": {
      "name": "python3",
      "display_name": "Python 3"
    },
    "language_info": {
      "name": "python"
    }
  },
  "cells": [
    {
      "cell_type": "markdown",
      "metadata": {
        "id": "view-in-github",
        "colab_type": "text"
      },
      "source": [
        "<a href=\"https://colab.research.google.com/github/Arcus0800/repo1/blob/main/CleanLR.ipynb\" target=\"_parent\"><img src=\"https://colab.research.google.com/assets/colab-badge.svg\" alt=\"Open In Colab\"/></a>"
      ]
    },
    {
      "cell_type": "markdown",
      "source": [
        "Importing Needed packages"
      ],
      "metadata": {
        "id": "oxu5IbQapczq"
      }
    },
    {
      "cell_type": "code",
      "execution_count": 56,
      "metadata": {
        "id": "fnLQoM8Si3Wx"
      },
      "outputs": [],
      "source": [
        "import torch.nn as nn\n",
        "import torch.nn.functional as F\n",
        "import numpy as np\n",
        "import torch\n",
        "from torch.utils.data import TensorDataset\n",
        "from torch.utils.data import DataLoader\n",
        "import matplotlib.pyplot as plt"
      ]
    },
    {
      "cell_type": "markdown",
      "source": [
        "Setting needed inputs and target"
      ],
      "metadata": {
        "id": "7WhYHMYipjCj"
      }
    },
    {
      "cell_type": "markdown",
      "source": [
        "input = np.array([[4,6],\n",
        "                  [5,8],\n",
        "                  [5,5],\n",
        "                  [6,9],\n",
        "                  [8,15],\n",
        "                  [9,13],\n",
        "                  [10,15],\n",
        "                  [12,16],\n",
        "                  [12,19],\n",
        "                  [14,22]], dtype='float32')\n",
        "\n",
        "target = np.array([[24, 16, 36],\n",
        "                        [40, 25, 64],\n",
        "                        [25, 25, 25],\n",
        "                        [54, 36, 81],\n",
        "                        [120, 64, 225],\n",
        "                        [117, 81, 169],\n",
        "                        [150, 100, 225],\n",
        "                        [192, 144, 256],\n",
        "                        [228, 144, 361],\n",
        "                        [308, 196, 484]], dtype='float32')"
      ],
      "metadata": {
        "id": "qTLsuBq5tN6Q"
      }
    },
    {
      "cell_type": "code",
      "source": [
        "input = np.array([[3,2],\n",
        "                  [7,6],\n",
        "                  [16,5],\n",
        "                  [14,2],\n",
        "                  [12,7],\n",
        "                  [7,4],\n",
        "                  [4,4],\n",
        "                  [19,2],\n",
        "                  [4,8],\n",
        "                  [8,4]], dtype='float32')\n",
        "\n",
        "target = np.array([[76],\n",
        "                   [88],\n",
        "                   [96],\n",
        "                   [90],\n",
        "                   [98],\n",
        "                   [80],\n",
        "                   [86],\n",
        "                   [89],\n",
        "                   [68],\n",
        "                   [75]], dtype='float32')\n",
        "\n",
        "testinput = np.array([[8,1],\n",
        "                      [14,2],\n",
        "                      [7,4],\n",
        "                      [3,3]], dtype='float32')\n",
        "testtarget = np.array([[72],\n",
        "                       [90],\n",
        "                      [80],\n",
        "                      [76]], dtype='float32')\n",
        "\n",
        "input = torch.from_numpy(input)\n",
        "target = torch.from_numpy(target)\n",
        "testinput = torch.from_numpy(testinput)\n",
        "testtarget = torch.from_numpy(testtarget)\n",
        "\n",
        "print(input)\n",
        "print(target)"
      ],
      "metadata": {
        "colab": {
          "base_uri": "https://localhost:8080/"
        },
        "id": "ar9K9oBHjnss",
        "outputId": "6dcd2c15-b0c2-4722-dff8-8e7a1b2c9043"
      },
      "execution_count": 83,
      "outputs": [
        {
          "output_type": "stream",
          "name": "stdout",
          "text": [
            "tensor([[ 3.,  2.],\n",
            "        [ 7.,  6.],\n",
            "        [16.,  5.],\n",
            "        [14.,  2.],\n",
            "        [12.,  7.],\n",
            "        [ 7.,  4.],\n",
            "        [ 4.,  4.],\n",
            "        [19.,  2.],\n",
            "        [ 4.,  8.],\n",
            "        [ 8.,  4.]])\n",
            "tensor([[76.],\n",
            "        [88.],\n",
            "        [96.],\n",
            "        [90.],\n",
            "        [98.],\n",
            "        [80.],\n",
            "        [86.],\n",
            "        [89.],\n",
            "        [68.],\n",
            "        [75.]])\n"
          ]
        }
      ]
    },
    {
      "cell_type": "markdown",
      "source": [
        "Defining kernel function"
      ],
      "metadata": {
        "id": "Hbsr8b1appa_"
      }
    },
    {
      "cell_type": "code",
      "source": [
        "def rbf_kernel(x1, x2, gamma=1.0):\n",
        "    sq_dist = torch.cdist(x1, x2) ** 2\n",
        "    return torch.exp(-gamma * sq_dist)"
      ],
      "metadata": {
        "id": "CIIu-ADnjo0x"
      },
      "execution_count": 58,
      "outputs": []
    },
    {
      "cell_type": "markdown",
      "source": [
        "Defining mode"
      ],
      "metadata": {
        "id": "ZEkgnseypyFY"
      }
    },
    {
      "cell_type": "code",
      "source": [
        "class RBFModel(nn.Module):\n",
        "    def __init__(self, input_dim, hidden_dim, output_dim):\n",
        "        super(RBFModel, self).__init__()\n",
        "        self.fc1 = nn.Linear(input_dim, hidden_dim)\n",
        "        self.fc2 = nn.Linear(hidden_dim, output_dim)\n",
        "\n",
        "    def forward(self, x):\n",
        "        x = torch.relu(self.fc1(x))\n",
        "        x = self.fc2(x)\n",
        "        return x"
      ],
      "metadata": {
        "id": "J1vhFgfcjy4e"
      },
      "execution_count": 59,
      "outputs": []
    },
    {
      "cell_type": "markdown",
      "source": [
        "Training model"
      ],
      "metadata": {
        "id": "rNlQHGD3p2qP"
      }
    },
    {
      "cell_type": "code",
      "source": [
        "def train_with_kernel(num_epochs, model, lossFn, opt, dl, kernel_fn):\n",
        "    train_loss = []\n",
        "    for epoch in range(num_epochs):\n",
        "        epoch_loss = 0.0\n",
        "        for i, j in dl:\n",
        "            opt.zero_grad()\n",
        "            pred = model(i)\n",
        "            loss = lossFn(pred, j)\n",
        "            kernel_matrix = kernel_fn(pred, j)\n",
        "            loss += torch.mean(kernel_matrix)  # Incorporate the kernel into the loss\n",
        "            loss.backward()\n",
        "            opt.step()\n",
        "            epoch_loss += loss.item()\n",
        "\n",
        "        avg_loss = epoch_loss / len(dl)\n",
        "        train_loss.append(avg_loss)\n",
        "        if (epoch + 1) % 1000 == 0:\n",
        "            print('Epoch [{}/{}], Loss: {:.4f}'.format(epoch + 1, num_epochs, avg_loss))\n",
        "\n",
        "    plt.figure(figsize=(10, 5))\n",
        "    plt.plot(train_loss, label='Train Loss')\n",
        "    plt.xlabel('Epoch')\n",
        "    plt.ylabel('Loss')\n",
        "    plt.title('Training Losses')\n",
        "    plt.legend()\n",
        "    plt.show()\n"
      ],
      "metadata": {
        "id": "EbjHCWhQj2VE"
      },
      "execution_count": 60,
      "outputs": []
    },
    {
      "cell_type": "markdown",
      "source": [
        "Start Training"
      ],
      "metadata": {
        "id": "LKnbm6xVp-Tr"
      }
    },
    {
      "cell_type": "code",
      "source": [
        "# Assuming input and target tensors are defined elsewhere\n",
        "input_transformed =  rbf_kernel(input, input)\n",
        "ds = TensorDataset(input_transformed, target)\n",
        "batch_size = 5\n",
        "dl = DataLoader(ds, batch_size, shuffle=True)\n",
        "\n",
        "# Define your model\n",
        "model = RBFModel(input_dim=input_transformed.shape[1], hidden_dim=10, output_dim=1)\n",
        "\n",
        "lossFn = F.mse_loss\n",
        "opt = torch.optim.SGD(model.parameters(), lr=0.001)\n",
        "\n",
        "# Train the model with the RBF kernel function\n",
        "num_epochs = 5000\n",
        "train_with_kernel(num_epochs, model, lossFn, opt, dl, rbf_kernel)"
      ],
      "metadata": {
        "colab": {
          "base_uri": "https://localhost:8080/",
          "height": 574
        },
        "id": "Y1IxmTzSk4wl",
        "outputId": "3752228f-86b9-4225-9037-75814df7b6e7"
      },
      "execution_count": 68,
      "outputs": [
        {
          "output_type": "stream",
          "name": "stdout",
          "text": [
            "Epoch [1000/5000], Loss: 0.2163\n",
            "Epoch [2000/5000], Loss: 0.2011\n",
            "Epoch [3000/5000], Loss: 0.2148\n",
            "Epoch [4000/5000], Loss: 0.2430\n",
            "Epoch [5000/5000], Loss: 0.2284\n"
          ]
        },
        {
          "output_type": "display_data",
          "data": {
            "text/plain": [
              "<Figure size 1000x500 with 1 Axes>"
            ],
            "image/png": "[encoded data removed]"
          },
          "metadata": {}
        }
      ]
    },
    {
      "cell_type": "markdown",
      "source": [
        "Eval"
      ],
      "metadata": {
        "id": "KocXsX3xqCtg"
      }
    },
    {
      "cell_type": "code",
      "source": [
        "test_input_transformed = rbf_kernel(testinput, input)\n",
        "\n",
        "# Convert to a DataLoader for batch processing\n",
        "test_ds = TensorDataset(test_input_transformed, testtarget)\n",
        "test_dl = DataLoader(test_ds, batch_size=batch_size, shuffle=False)\n",
        "\n",
        "# Load the Trained Model\n",
        "model.eval()  # Set the model to evaluation mode\n",
        "\n",
        "# Make Predictions\n",
        "all_predictions = []\n",
        "all_targets = []\n",
        "\n",
        "with torch.no_grad():  # Disable gradient computation\n",
        "    for inputs, targets in test_dl:\n",
        "        predictions = model(inputs)\n",
        "        all_predictions.append(predictions)\n",
        "        all_targets.append(targets)\n",
        "\n",
        "# Concatenate all predictions and targets\n",
        "all_predictions = torch.cat(all_predictions, dim=0)\n",
        "all_targets = torch.cat(all_targets, dim=0)\n",
        "print(all_predictions)\n",
        "print(all_targets)\n",
        "# Evaluate Predictions (calculate MSE)\n",
        "mse = F.mse_loss(all_predictions, all_targets)\n",
        "print(f'Mean Squared Error on Test Data: {mse.item()}')\n",
        "\n",
        "# Plot predictions vs true values\n",
        "plt.figure(figsize=(10, 5))\n",
        "plt.scatter(all_targets.numpy(), all_predictions.numpy(), alpha=0.5, color='blue', label='Predictions')\n",
        "plt.scatter(all_targets.numpy(), all_targets.numpy(), alpha=0.5, color='red', label='True Values')\n",
        "plt.xlabel('True Values')\n",
        "plt.ylabel('Predictions')\n",
        "plt.title('Predictions vs True Values')\n",
        "plt.legend()\n",
        "plt.show()"
      ],
      "metadata": {
        "colab": {
          "base_uri": "https://localhost:8080/",
          "height": 643
        },
        "id": "nTJGrETKmkIv",
        "outputId": "aea5c6f4-9e35-479c-8e4a-c27db110fd63"
      },
      "execution_count": 84,
      "outputs": [
        {
          "output_type": "stream",
          "name": "stdout",
          "text": [
            "tensor([[77.1858],\n",
            "        [90.0352],\n",
            "        [80.0045],\n",
            "        [77.9126]])\n",
            "tensor([[72.],\n",
            "        [90.],\n",
            "        [80.],\n",
            "        [76.]])\n",
            "Mean Squared Error on Test Data: 7.638030052185059\n"
          ]
        },
        {
          "output_type": "display_data",
          "data": {
            "text/plain": [
              "<Figure size 1000x500 with 1 Axes>"
            ],
            "image/png": "[encoded data removed]"
          },
          "metadata": {}
        }
      ]
    }
  ]
}