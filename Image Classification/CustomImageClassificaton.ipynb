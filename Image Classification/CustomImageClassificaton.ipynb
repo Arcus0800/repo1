{
  "nbformat": 4,
  "nbformat_minor": 0,
  "metadata": {
    "colab": {
      "provenance": [],
      "authorship_tag": "ABX9TyMhesXL+0I7ulEoaaFPMUtN",
      "include_colab_link": true
    },
    "kernelspec": {
      "name": "python3",
      "display_name": "Python 3"
    },
    "language_info": {
      "name": "python"
    }
  },
  "cells": [
    {
      "cell_type": "markdown",
      "metadata": {
        "id": "view-in-github",
        "colab_type": "text"
      },
      "source": [
        "<a href=\"https://colab.research.google.com/github/Arcus0800/repo1/blob/main/Image%20Classification/CustomImageClassificaton.ipynb\" target=\"_parent\"><img src=\"https://colab.research.google.com/assets/colab-badge.svg\" alt=\"Open In Colab\"/></a>"
      ]
    },
    {
      "cell_type": "code",
      "source": [
        "from PIL import Image\n",
        "import numpy as np\n",
        "import torch\n",
        "import torch.nn as nn\n",
        "import torch.nn.functional as F"
      ],
      "metadata": {
        "id": "MhsWUWZRwdm3"
      },
      "execution_count": 1,
      "outputs": []
    },
    {
      "cell_type": "code",
      "execution_count": 15,
      "metadata": {
        "colab": {
          "base_uri": "https://localhost:8080/"
        },
        "id": "jQa4dFSswWxc",
        "outputId": "a417e5c6-d768-4e86-e50f-7a86bafc7664"
      },
      "outputs": [
        {
          "output_type": "stream",
          "name": "stdout",
          "text": [
            "Predicted number: 4\n"
          ]
        }
      ],
      "source": [
        "\n",
        "class ImgModel(nn.Module):\n",
        "    def __init__(self, input_size, num_classes):\n",
        "        super(ImgModel, self).__init__()\n",
        "        self.linear = nn.Linear(input_size, num_classes)\n",
        "\n",
        "    def forward(self, x):\n",
        "        x = x.reshape(-1, 28*28)\n",
        "        x = self.linear(x)\n",
        "        return x\n",
        "\n",
        "def load_model(path):\n",
        "    model = ImgModel(input_size=28*28, num_classes=10)\n",
        "    model.load_state_dict(torch.load(path))\n",
        "    model.eval()\n",
        "    return model\n",
        "\n",
        "def preprocess_image(image_path):\n",
        "    # Open the image file\n",
        "    img = Image.open(image_path).convert('L')  # Convert to grayscale\n",
        "    img = img.resize((28, 28))  # Resize to 28x28 pixels\n",
        "\n",
        "    # Convert to numpy array and normalize\n",
        "    img_array = np.array(img) / 255.0\n",
        "\n",
        "    # Flatten the image\n",
        "    img_array = img_array.reshape(1, -1).astype(np.float32)\n",
        "    return img_array\n",
        "\n",
        "def predict(model, input_data):\n",
        "    with torch.no_grad():\n",
        "        input_tensor = torch.tensor(input_data)\n",
        "        output = model(input_tensor)\n",
        "        _, predicted = torch.max(output, 1)\n",
        "        return predicted.item()\n",
        "\n",
        "def main():\n",
        "    model_path = 'imgmodel.pth'\n",
        "    image_path = 'test[2].png'\n",
        "    model = load_model(model_path)\n",
        "\n",
        "    input_data = preprocess_image(image_path)\n",
        "    prediction = predict(model, input_data)\n",
        "    print(f'Predicted number: {prediction}')\n",
        "\n",
        "if __name__ == '__main__':\n",
        "    main()\n"
      ]
    }
  ]
}